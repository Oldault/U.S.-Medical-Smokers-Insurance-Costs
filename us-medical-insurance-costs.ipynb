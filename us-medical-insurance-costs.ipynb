{
 "cells": [
  {
   "cell_type": "markdown",
   "metadata": {},
   "source": [
    "# U.S. Medical Insurance Costs"
   ]
  },
  {
   "cell_type": "markdown",
   "metadata": {},
   "source": [
    "### Getting familiar with the database"
   ]
  },
  {
   "cell_type": "markdown",
   "metadata": {},
   "source": [
    "First we import our database and analyse how much patients do we have on hand?"
   ]
  },
  {
   "cell_type": "code",
   "execution_count": 153,
   "metadata": {},
   "outputs": [
    {
     "name": "stdout",
     "output_type": "stream",
     "text": [
      "There are 1338 users in the 'insurance.csv' database we are going to analyse.\n",
      "\n"
     ]
    }
   ],
   "source": [
    "import csv\n",
    "\n",
    "filename = 'insurance.csv'\n",
    "user_count = 0\n",
    "insurance_list = list()\n",
    "\n",
    "with open(filename, 'r') as insurance_csv:\n",
    "    insurance_dict = csv.DictReader(insurance_csv)\n",
    "    for user in insurance_dict:\n",
    "        insurance_list.append(user)\n",
    "        user_count += 1\n",
    "        \n",
    "print(\"There are\", user_count, \"users in the \\'insurance.csv\\' database we are going to analyse.\"); print()"
   ]
  },
  {
   "cell_type": "markdown",
   "metadata": {},
   "source": [
    "what keys does the database have?"
   ]
  },
  {
   "cell_type": "code",
   "execution_count": 154,
   "metadata": {},
   "outputs": [
    {
     "name": "stdout",
     "output_type": "stream",
     "text": [
      "['age', 'sex', 'bmi', 'children', 'smoker', 'region', 'charges']\n"
     ]
    }
   ],
   "source": [
    "insurance_keys = list(insurance_list[0].keys())\n",
    "print(insurance_keys)"
   ]
  },
  {
   "cell_type": "markdown",
   "metadata": {},
   "source": [
    "We now know we have access to the patients:\n",
    " - `age`: In years.\n",
    " - `sex`: The gender. Either male or female.\n",
    " - `bmi`: Body Mass Index. \n",
    " - `children`: Number of children. \n",
    " - `smoker`: Either 'Yes' or 'No'. \n",
    " - `region`: Actual living location. \n",
    " - `charges`: insurance cost. "
   ]
  },
  {
   "cell_type": "markdown",
   "metadata": {},
   "source": [
    "Let's see the distribution of male and female cases in the database.\n",
    "But before, we'll need a function that wil convert our values into percentages!"
   ]
  },
  {
   "cell_type": "code",
   "execution_count": 155,
   "metadata": {},
   "outputs": [],
   "source": [
    "def percentage_convert(amount, in_data):\n",
    "    return round((amount/ in_data) * 100, 2)"
   ]
  },
  {
   "cell_type": "markdown",
   "metadata": {},
   "source": [
    "Now let's get on with the counting."
   ]
  },
  {
   "cell_type": "code",
   "execution_count": 156,
   "metadata": {},
   "outputs": [
    {
     "name": "stdout",
     "output_type": "stream",
     "text": [
      "There are 676 male patients, which is equal to 50.52% of the database.\n",
      "And 662 female patients, which is equal to 49.48% of the database.\n",
      "\n"
     ]
    }
   ],
   "source": [
    "male_patients = 0\n",
    "female_patients = 0\n",
    "\n",
    "for user in insurance_list:\n",
    "    if user['sex'] == 'male': male_patients += 1\n",
    "    else: female_patients += 1\n",
    "        \n",
    "# Turning the values into percentages.\n",
    "male_patients_percentage = percentage_convert(male_patients, user_count)\n",
    "female_patients_percentage = percentage_convert(female_patients, user_count)\n",
    "\n",
    "print(\"There are {} male patients, which is equal to {}% of the database.\".format(male_patients, male_patients_percentage))\n",
    "print(\"And {} female patients, which is equal to {}% of the database.\".format(female_patients, female_patients_percentage)); print()"
   ]
  },
  {
   "cell_type": "markdown",
   "metadata": {},
   "source": [
    "## Analysing data"
   ]
  },
  {
   "cell_type": "markdown",
   "metadata": {},
   "source": [
    "### Smokers"
   ]
  },
  {
   "cell_type": "markdown",
   "metadata": {},
   "source": [
    "How much of the individuals are smokers? And which sex smokes more? We'll answer both of those questions in the latter code.\n"
   ]
  },
  {
   "cell_type": "code",
   "execution_count": 178,
   "metadata": {},
   "outputs": [
    {
     "name": "stdout",
     "output_type": "stream",
     "text": [
      "There are a total of 274 smokers, out of the 1338 individuals. Which amounts to 20.48% of the patients.\n",
      "These means there are 1064 non smokers.\n"
     ]
    }
   ],
   "source": [
    "# Counting smokers and non smokers in the database.\n",
    "smokers = 0\n",
    "non_smokers = 0\n",
    "smoking_patients = []\n",
    "non_smoking_patients = []\n",
    "\n",
    "for user in insurance_list:\n",
    "    if user['smoker'] == 'yes' : \n",
    "        smokers += 1\n",
    "        smoking_patients.append(user)\n",
    "    else : \n",
    "        non_smokers += 1\n",
    "        non_smoking_patients.append(user)\n",
    "    \n",
    "smokers_percentage = percentage_convert(smokers, user_count)\n",
    "print(\"There are a total of\", smokers, \"smokers, out of the\", user_count, \"individuals. Which amounts to {}% of the patients.\".format(smokers_percentage))\n",
    "print(\"These means there are\", non_smokers, \"non smokers.\")"
   ]
  },
  {
   "cell_type": "markdown",
   "metadata": {},
   "source": [
    "What is the distribution of smokers between both genders?"
   ]
  },
  {
   "cell_type": "code",
   "execution_count": 158,
   "metadata": {},
   "outputs": [
    {
     "name": "stdout",
     "output_type": "stream",
     "text": [
      "Out of the 274 smokers, 159 are male smokers and 115 are female smokers. So 58.03% men, and 41.97% female.\n",
      "23.52% of the male patients are smokers (male smokers/ male patients). Against 17.37% of female patients.\n",
      "\n"
     ]
    }
   ],
   "source": [
    "# Determining smokers sex.\n",
    "male_smokers = 0\n",
    "female_smokers = 0\n",
    "\n",
    "for smoker in smoking_patients:\n",
    "    if smoker['sex'] == 'male' : male_smokers += 1\n",
    "    else : female_smokers += 1\n",
    "        \n",
    "male_smokers_percentage = percentage_convert(male_smokers, male_patients)\n",
    "female_smokers_percentage = percentage_convert(female_smokers, female_patients)\n",
    "male_smokers_compared = percentage_convert(male_smokers, smokers)\n",
    "female_smokers_compared = percentage_convert(female_smokers, smokers)\n",
    "\n",
    "print(\"Out of the\", smokers, \"smokers,\", male_smokers, \"are male smokers and\", female_smokers, \"are female smokers. So {}% men, and {}% female.\".format(male_smokers_compared, female_smokers_compared))\n",
    "print(\"{}% of the male patients are smokers (male smokers/ male patients). Against {}% of female patients.\".format(male_smokers_percentage, female_smokers_percentage)); print()"
   ]
  },
  {
   "cell_type": "markdown",
   "metadata": {},
   "source": [
    "What is the probability a smoker is male or female?"
   ]
  },
  {
   "cell_type": "code",
   "execution_count": 159,
   "metadata": {},
   "outputs": [
    {
     "name": "stdout",
     "output_type": "stream",
     "text": [
      "If you were to randomly pick a person from the database, you'd have 11.88% chance of falling upon a male smoker and 8.59% falling upon a female smoker.\n",
      "This means, men are 38.3% more likely to be smokers compared to women.\n",
      "\n"
     ]
    }
   ],
   "source": [
    "# Probabily smoker is male or female.\n",
    "m_smokers_user_count = percentage_convert(male_smokers, user_count)\n",
    "f_smokers_user_count = percentage_convert(female_smokers, user_count)\n",
    "male_smoking_against_female = round((percentage_convert(m_smokers_user_count, f_smokers_user_count)) - 100, 2)\n",
    "\n",
    "print(\"If you were to randomly pick a person from the database, you'd have {}% chance of falling upon a male smoker and {}% falling upon a female smoker.\".format(m_smokers_user_count, f_smokers_user_count))\n",
    "print(\"This means, men are {}% more likely to be smokers compared to women.\".format(male_smoking_against_female)); print()"
   ]
  },
  {
   "cell_type": "markdown",
   "metadata": {},
   "source": [
    "### Insurance cost for smokers and non smokers"
   ]
  },
  {
   "cell_type": "markdown",
   "metadata": {},
   "source": [
    "What is the average insurance cost for someone who smokes compared to those who don't? How important is the difference?\n",
    "\n",
    "Let's start by counting the average insurance cost for a typical smoker."
   ]
  },
  {
   "cell_type": "code",
   "execution_count": 172,
   "metadata": {},
   "outputs": [],
   "source": [
    "# We sum the total charges of each smoker\n",
    "total_smokers_insurance_cost = 0\n",
    "for smoker in smoking_patients:\n",
    "    total_smokers_insurance_cost += float(smoker['charges'])\n",
    "\n",
    "# Then divide the value by the number of smokers\n",
    "average_smokers_insurance_cost = round((total_smokers_insurance_cost/ smokers), 2)"
   ]
  },
  {
   "cell_type": "code",
   "execution_count": 175,
   "metadata": {},
   "outputs": [
    {
     "name": "stdout",
     "output_type": "stream",
     "text": [
      "On average, a smoker has to pay 32050.23 dollars in charges for his insurance.\n",
      "\n"
     ]
    }
   ],
   "source": [
    "print(\"On average, a smoker has to pay\", average_smokers_insurance_cost, \"dollars in charges for his insurance.\"); print()"
   ]
  },
  {
   "cell_type": "markdown",
   "metadata": {},
   "source": [
    "Now let's get the average insurnace cost for a non smoker."
   ]
  },
  {
   "cell_type": "code",
   "execution_count": 180,
   "metadata": {},
   "outputs": [],
   "source": [
    "# Same process as before, we sum the total charges of each non-smoker\n",
    "total_non_smokers_insurance_cost = 0\n",
    "for non_smoker in non_smoking_patients:\n",
    "    total_non_smokers_insurance_cost += float(non_smoker['charges'])\n",
    "\n",
    "# Then divide the value by the number of non smokers\n",
    "average_non_smokers_insurance_cost = round((total_non_smokers_insurance_cost/ non_smokers), 2)"
   ]
  },
  {
   "cell_type": "code",
   "execution_count": 181,
   "metadata": {},
   "outputs": [
    {
     "name": "stdout",
     "output_type": "stream",
     "text": [
      "On average, a non smoker has to pay 8434.27 dollars in charges for his insurance.\n",
      "\n"
     ]
    }
   ],
   "source": [
    "print(\"On average, a non smoker has to pay\", average_non_smokers_insurance_cost, \"dollars in charges for his insurance.\"); print()"
   ]
  },
  {
   "cell_type": "markdown",
   "metadata": {},
   "source": [
    "That's a big difference! Let's see how much exactly."
   ]
  },
  {
   "cell_type": "code",
   "execution_count": 191,
   "metadata": {},
   "outputs": [
    {
     "name": "stdout",
     "output_type": "stream",
     "text": [
      "On average, a smoker has to pay 23615.96$ more yearly. That's a whopping 3.8 times difference to the non smokers!\n",
      "We can conclude on something that will help you lower your insurance cost: don't smoke, eat clean, lift weights.\n",
      "\n"
     ]
    }
   ],
   "source": [
    "price_difference = average_smokers_insurance_cost - average_non_smokers_insurance_cost\n",
    "difference_in_times = round((average_smokers_insurance_cost/ average_non_smokers_insurance_cost), 3)\n",
    "\n",
    "print(\"On average, a smoker has to pay\", str(price_difference)+\"$\", \"more yearly. That's a whopping\", difference_in_times, \"times difference to the non smokers!\")\n",
    "print(\"We can conclude on something that will help you lower your insurance cost: don't smoke, eat clean, lift weights.\"); print()"
   ]
  }
 ],
 "metadata": {
  "kernelspec": {
   "display_name": "Python 3 (ipykernel)",
   "language": "python",
   "name": "python3"
  },
  "language_info": {
   "codemirror_mode": {
    "name": "ipython",
    "version": 3
   },
   "file_extension": ".py",
   "mimetype": "text/x-python",
   "name": "python",
   "nbconvert_exporter": "python",
   "pygments_lexer": "ipython3",
   "version": "3.9.13"
  }
 },
 "nbformat": 4,
 "nbformat_minor": 4
}
